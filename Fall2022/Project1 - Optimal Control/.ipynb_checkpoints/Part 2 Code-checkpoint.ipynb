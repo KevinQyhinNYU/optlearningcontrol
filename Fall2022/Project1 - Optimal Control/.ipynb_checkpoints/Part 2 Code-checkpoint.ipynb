{
 "cells": [
  {
   "cell_type": "markdown",
   "id": "a1143978",
   "metadata": {},
   "source": [
    "Part 2 - LQR to stay in place\n",
    "Now that we have  𝑢∗  capable of keeping the robot at rest, we can design a simple controller that ensures that the robot stays in place even when pushed around by random disturbances (e.g. due to the wind). Our task here will be to design a LQR controller that keeps the robot at a predefined position. Since the dynamics is not linear, we need to compute a linear approximation of it.\n",
    "\n",
    "Linearize the dynamics at an arbitrary operating point  𝑧∗ ,  𝑢∗  and write the linearized system dynamics using the variables  𝑧¯𝑛=𝑧𝑛−𝑧∗  and  𝑢¯𝑛=𝑢𝑛−𝑢∗ .\n",
    "Write a function get_linearization(z, u) that returns the matrices A and B given a state  𝑧  and a control  𝑢  (use the constants defined in the quadrotor.py module).\n",
    "Using the linearized dynamics, we can design an infinite horizon LQR controller of the form,  𝑢̂ =𝐾𝑧¯  to stabilize the resting point. Write the equations of the controller in the original coordinates  𝑢  as a function of  𝑧 .\n",
    "Design an infinite-horizon LQR controller that stabilizes the origin  𝑧=0  and test it using the simulator below.\n",
    "Explain your intended design in the report, including the cost function and found control law. In particular, verify that it can handle perturbations by calling the simulate function with disturbance = True (when setting disturbance to True, the simulator will generate a random perturbation every 1 second). Simulate your controller for 10 seconds, plot the state evolution and show the animation (include the plots in your report)."
   ]
  },
  {
   "cell_type": "code",
   "execution_count": null,
   "id": "3e9208c0",
   "metadata": {},
   "outputs": [],
   "source": [
    "%matplotlib notebook\n",
    "#The code for solving Part2\n",
    "\n",
    "import numpy as np\n",
    "import matplotlib.pyplot as plt\n",
    "\n",
    "import quadrotor"
   ]
  }
 ],
 "metadata": {
  "kernelspec": {
   "display_name": "Python 3",
   "language": "python",
   "name": "python3"
  },
  "language_info": {
   "codemirror_mode": {
    "name": "ipython",
    "version": 3
   },
   "file_extension": ".py",
   "mimetype": "text/x-python",
   "name": "python",
   "nbconvert_exporter": "python",
   "pygments_lexer": "ipython3",
   "version": "3.8.11"
  }
 },
 "nbformat": 4,
 "nbformat_minor": 5
}
